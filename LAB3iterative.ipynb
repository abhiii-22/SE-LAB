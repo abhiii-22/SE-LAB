{
  "nbformat": 4,
  "nbformat_minor": 0,
  "metadata": {
    "colab": {
      "provenance": [],
      "authorship_tag": "ABX9TyOH7R7ioYhc/BN65udjIEnD",
      "include_colab_link": true
    },
    "kernelspec": {
      "name": "python3",
      "display_name": "Python 3"
    },
    "language_info": {
      "name": "python"
    }
  },
  "cells": [
    {
      "cell_type": "markdown",
      "metadata": {
        "id": "view-in-github",
        "colab_type": "text"
      },
      "source": [
        "<a href=\"https://colab.research.google.com/github/abhiii-22/SE-LAB/blob/main/LAB3iterative.ipynb\" target=\"_parent\"><img src=\"https://colab.research.google.com/assets/colab-badge.svg\" alt=\"Open In Colab\"/></a>"
      ]
    },
    {
      "cell_type": "markdown",
      "source": [
        "# **Iteration 1: Load and Clean Data**"
      ],
      "metadata": {
        "id": "y2MSXyRtnUNj"
      }
    },
    {
      "cell_type": "code",
      "source": [
        "import pandas as pd\n",
        "import os\n",
        "\n",
        "def load_and_clean_data(file_path):\n",
        "\n",
        "    if os.path.exists(file_path):\n",
        "        try:\n",
        "            df = pd.read_csv(file_path)\n",
        "            df.columns = df.columns.str.strip()\n",
        "            print(\"Dataset loaded and cleaned successfully!\")\n",
        "            return df\n",
        "        except Exception as e:\n",
        "            print(\"Error loading the file:\", e)\n",
        "            return None\n",
        "    else:\n",
        "        print(f\"File does not exist at the path: {file_path}\")\n",
        "        return None\n"
      ],
      "metadata": {
        "id": "ZgvZyeVml36R"
      },
      "execution_count": 5,
      "outputs": []
    },
    {
      "cell_type": "markdown",
      "source": [
        "# **Iteration 2: Handle User Input for Cities**"
      ],
      "metadata": {
        "id": "sSIEZreGnnKS"
      }
    },
    {
      "cell_type": "code",
      "source": [
        "def get_user_input():\n",
        "\n",
        "    user_input = input(\"\\nEnter city names separated by commas (e.g., Mumbai, Delhi): \")\n",
        "    return [city.strip() for city in user_input.split(\",\")]\n"
      ],
      "metadata": {
        "id": "JKcf3_tOntti"
      },
      "execution_count": 6,
      "outputs": []
    },
    {
      "cell_type": "markdown",
      "source": [
        "# **Iteration 3: Validate Cities**"
      ],
      "metadata": {
        "id": "1IwcKMJyn0Py"
      }
    },
    {
      "cell_type": "code",
      "source": [
        "def validate_cities(user_cities, valid_cities):\n",
        "\n",
        "    matched_cities = [city for city in user_cities if city in valid_cities]\n",
        "    if not matched_cities:\n",
        "        print(\"No valid cities found in the dataset. Exiting.\")\n",
        "        return []\n",
        "    else:\n",
        "        print(f\"\\nProcessing data for the following matched cities: {matched_cities}\")\n",
        "        return matched_cities\n"
      ],
      "metadata": {
        "id": "qEd8P0Qunzs6"
      },
      "execution_count": 8,
      "outputs": []
    },
    {
      "cell_type": "markdown",
      "source": [
        "# **Iteration 4: Calculate and Categorize Weather**"
      ],
      "metadata": {
        "id": "ctmI3VOan9cK"
      }
    },
    {
      "cell_type": "code",
      "source": [
        "def calculate_weather(temp, humidity, wind_speed):\n",
        "\n",
        "    W = (0.5 * temp**2) - (0.2 * humidity) + (0.1 * wind_speed) - 15\n",
        "    return W\n",
        "\n",
        "def categorize_weather(W):\n",
        "\n",
        "    if W > 300:\n",
        "        return \"Cloudy\"\n",
        "    elif 200 < W <= 300:\n",
        "        return \"Sunny\"\n",
        "    else:\n",
        "        return \"Rainy\"\n"
      ],
      "metadata": {
        "id": "Go6RlOQinm4T"
      },
      "execution_count": 9,
      "outputs": []
    },
    {
      "cell_type": "markdown",
      "source": [
        "# **Iteration 5: Process and Output Results**"
      ],
      "metadata": {
        "id": "nKUBtP0yog66"
      }
    },
    {
      "cell_type": "code",
      "source": [
        "def process_and_output_weather(matched_cities, df, manual_input):\n",
        "\n",
        "    for city in matched_cities:\n",
        "        if manual_input == 'yes':\n",
        "            print(f\"\\nEnter data for {city}:\")\n",
        "            temp = float(input(\"Enter Temperature (°C): \"))\n",
        "            humidity = float(input(\"Enter Humidity (%): \"))\n",
        "            wind_speed = float(input(\"Enter Wind Speed (m/s): \"))\n",
        "        else:\n",
        "            city_data = df[df[\"CITY\"] == city].iloc[0]\n",
        "            temp = city_data[\"TEMPERATURE\"]\n",
        "            humidity = city_data[\"HUMIDITY\"]\n",
        "            wind_speed = city_data[\"WIND SPEED\"]\n",
        "\n",
        "\n",
        "        modeled_weather = calculate_weather(temp, humidity, wind_speed)\n",
        "        weather_condition = categorize_weather(modeled_weather)\n",
        "\n",
        "        print(\n",
        "            f\"\\nCity: {city}\\n\"\n",
        "            f\"Temperature: {temp} °C\\n\"\n",
        "            f\"Humidity: {humidity} %\\n\"\n",
        "            f\"Wind Speed: {wind_speed} m/s\\n\"\n",
        "            f\"Calculated Weather Value (W): {modeled_weather:.2f}\\n\"\n",
        "            f\"Weather Condition: {weather_condition}\\n\"\n",
        "        )\n"
      ],
      "metadata": {
        "id": "EK1hoRM-oyRp"
      },
      "execution_count": 10,
      "outputs": []
    },
    {
      "cell_type": "markdown",
      "source": [
        "# **Main Function to Integrate All Iterations**"
      ],
      "metadata": {
        "id": "w9Bf19ampLuB"
      }
    },
    {
      "cell_type": "code",
      "source": [
        "def main():\n",
        "\n",
        "\n",
        "    file_path = '/content/drive/MyDrive/SE LAB SEM6/temp.humidity.wind.csv'\n",
        "    df = load_and_clean_data(file_path)\n",
        "    if df is None:\n",
        "        return\n",
        "\n",
        "\n",
        "    user_cities = get_user_input()\n",
        "\n",
        "\n",
        "    valid_cities = df[\"CITY\"].unique()\n",
        "    matched_cities = validate_cities(user_cities, valid_cities)\n",
        "\n",
        "    if not matched_cities:\n",
        "        return\n",
        "\n",
        "\n",
        "    manual_input = input(\"\\nWould you like to manually input weather data for cities? (yes/no): \").strip().lower()\n",
        "\n",
        "\n",
        "    process_and_output_weather(matched_cities, df, manual_input)\n",
        "\n",
        "\n",
        "    another_round = input(\"\\nWould you like to process another set of cities? (yes/no): \").strip().lower()\n",
        "    if another_round == 'yes':\n",
        "        main()\n",
        "\n",
        "if __name__ == \"__main__\":\n",
        "    main()\n"
      ],
      "metadata": {
        "colab": {
          "base_uri": "https://localhost:8080/"
        },
        "id": "Z-29a2HLpSQZ",
        "outputId": "3266ad95-f652-4143-c633-205ca4108027"
      },
      "execution_count": 11,
      "outputs": [
        {
          "name": "stdout",
          "output_type": "stream",
          "text": [
            "Dataset loaded and cleaned successfully!\n",
            "\n",
            "Enter city names separated by commas (e.g., Mumbai, Delhi): Mumbai\n",
            "\n",
            "Processing data for the following matched cities: ['Mumbai']\n",
            "\n",
            "Would you like to manually input weather data for cities? (yes/no): no\n",
            "\n",
            "City: Mumbai\n",
            "Temperature: 32 °C\n",
            "Humidity: 75 %\n",
            "Wind Speed: 5.0 m/s\n",
            "Calculated Weather Value (W): 482.50\n",
            "Weather Condition: Cloudy\n",
            "\n",
            "\n",
            "Would you like to process another set of cities? (yes/no): no\n"
          ]
        }
      ]
    }
  ]
}